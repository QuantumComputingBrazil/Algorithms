{
 "cells": [
  {
   "cell_type": "markdown",
   "id": "6b9395d2",
   "metadata": {},
   "source": [
    "Instalacao de librarys padrao"
   ]
  },
  {
   "cell_type": "code",
   "execution_count": 1,
   "id": "236b83a4",
   "metadata": {},
   "outputs": [
    {
     "name": "stdout",
     "output_type": "stream",
     "text": [
      "Requirement already satisfied: qiskit in /home/qwill/anaconda3/lib/python3.10/site-packages (0.43.0)\n",
      "Requirement already satisfied: qiskit-terra==0.24.0 in /home/qwill/anaconda3/lib/python3.10/site-packages (from qiskit) (0.24.0)\n",
      "Requirement already satisfied: qiskit-ibmq-provider==0.20.2 in /home/qwill/anaconda3/lib/python3.10/site-packages (from qiskit) (0.20.2)\n",
      "Requirement already satisfied: qiskit-aer==0.12.0 in /home/qwill/anaconda3/lib/python3.10/site-packages (from qiskit) (0.12.0)\n",
      "Requirement already satisfied: numpy>=1.16.3 in /home/qwill/anaconda3/lib/python3.10/site-packages (from qiskit-aer==0.12.0->qiskit) (1.23.5)\n",
      "Requirement already satisfied: scipy>=1.0 in /home/qwill/anaconda3/lib/python3.10/site-packages (from qiskit-aer==0.12.0->qiskit) (1.10.0)\n",
      "Requirement already satisfied: requests>=2.19 in /home/qwill/anaconda3/lib/python3.10/site-packages (from qiskit-ibmq-provider==0.20.2->qiskit) (2.28.1)\n",
      "Requirement already satisfied: websocket-client>=1.5.1 in /home/qwill/anaconda3/lib/python3.10/site-packages (from qiskit-ibmq-provider==0.20.2->qiskit) (1.5.2)\n",
      "Requirement already satisfied: python-dateutil>=2.8.0 in /home/qwill/anaconda3/lib/python3.10/site-packages (from qiskit-ibmq-provider==0.20.2->qiskit) (2.8.2)\n",
      "Requirement already satisfied: requests-ntlm<=1.1.0 in /home/qwill/anaconda3/lib/python3.10/site-packages (from qiskit-ibmq-provider==0.20.2->qiskit) (1.1.0)\n",
      "Requirement already satisfied: urllib3>=1.21.1 in /home/qwill/anaconda3/lib/python3.10/site-packages (from qiskit-ibmq-provider==0.20.2->qiskit) (1.26.14)\n",
      "Requirement already satisfied: websockets>=10.0 in /home/qwill/anaconda3/lib/python3.10/site-packages (from qiskit-ibmq-provider==0.20.2->qiskit) (11.0.3)\n",
      "Requirement already satisfied: dill>=0.3 in /home/qwill/anaconda3/lib/python3.10/site-packages (from qiskit-terra==0.24.0->qiskit) (0.3.6)\n",
      "Requirement already satisfied: sympy>=1.3 in /home/qwill/anaconda3/lib/python3.10/site-packages (from qiskit-terra==0.24.0->qiskit) (1.11.1)\n",
      "Requirement already satisfied: symengine<0.10,>=0.9 in /home/qwill/anaconda3/lib/python3.10/site-packages (from qiskit-terra==0.24.0->qiskit) (0.9.2)\n",
      "Requirement already satisfied: stevedore>=3.0.0 in /home/qwill/anaconda3/lib/python3.10/site-packages (from qiskit-terra==0.24.0->qiskit) (5.1.0)\n",
      "Requirement already satisfied: psutil>=5 in /home/qwill/anaconda3/lib/python3.10/site-packages (from qiskit-terra==0.24.0->qiskit) (5.9.0)\n",
      "Requirement already satisfied: ply>=3.10 in /home/qwill/anaconda3/lib/python3.10/site-packages (from qiskit-terra==0.24.0->qiskit) (3.11)\n",
      "Requirement already satisfied: rustworkx>=0.12.0 in /home/qwill/anaconda3/lib/python3.10/site-packages (from qiskit-terra==0.24.0->qiskit) (0.12.1)\n",
      "Requirement already satisfied: six>=1.5 in /home/qwill/anaconda3/lib/python3.10/site-packages (from python-dateutil>=2.8.0->qiskit-ibmq-provider==0.20.2->qiskit) (1.16.0)\n",
      "Requirement already satisfied: charset-normalizer<3,>=2 in /home/qwill/anaconda3/lib/python3.10/site-packages (from requests>=2.19->qiskit-ibmq-provider==0.20.2->qiskit) (2.0.4)\n",
      "Requirement already satisfied: certifi>=2017.4.17 in /home/qwill/anaconda3/lib/python3.10/site-packages (from requests>=2.19->qiskit-ibmq-provider==0.20.2->qiskit) (2023.5.7)\n",
      "Requirement already satisfied: idna<4,>=2.5 in /home/qwill/anaconda3/lib/python3.10/site-packages (from requests>=2.19->qiskit-ibmq-provider==0.20.2->qiskit) (3.4)\n",
      "Requirement already satisfied: cryptography>=1.3 in /home/qwill/anaconda3/lib/python3.10/site-packages (from requests-ntlm<=1.1.0->qiskit-ibmq-provider==0.20.2->qiskit) (39.0.1)\n",
      "Requirement already satisfied: ntlm-auth>=1.0.2 in /home/qwill/anaconda3/lib/python3.10/site-packages (from requests-ntlm<=1.1.0->qiskit-ibmq-provider==0.20.2->qiskit) (1.5.0)\n",
      "Requirement already satisfied: pbr!=2.1.0,>=2.0.0 in /home/qwill/anaconda3/lib/python3.10/site-packages (from stevedore>=3.0.0->qiskit-terra==0.24.0->qiskit) (5.11.1)\n",
      "Requirement already satisfied: mpmath>=0.19 in /home/qwill/anaconda3/lib/python3.10/site-packages/mpmath-1.2.1-py3.10.egg (from sympy>=1.3->qiskit-terra==0.24.0->qiskit) (1.2.1)\n",
      "Requirement already satisfied: cffi>=1.12 in /home/qwill/anaconda3/lib/python3.10/site-packages (from cryptography>=1.3->requests-ntlm<=1.1.0->qiskit-ibmq-provider==0.20.2->qiskit) (1.15.1)\n",
      "Requirement already satisfied: pycparser in /home/qwill/anaconda3/lib/python3.10/site-packages (from cffi>=1.12->cryptography>=1.3->requests-ntlm<=1.1.0->qiskit-ibmq-provider==0.20.2->qiskit) (2.21)\n",
      "Collecting qiskit-ibm-provider\n",
      "  Downloading qiskit_ibm_provider-0.6.0-py3-none-any.whl (233 kB)\n",
      "\u001b[2K     \u001b[38;2;114;156;31m━━━━━━━━━━━━━━━━━━━━━━━━━━━━━━━━━━━━━━━\u001b[0m \u001b[32m233.4/233.4 kB\u001b[0m \u001b[31m5.9 MB/s\u001b[0m eta \u001b[36m0:00:00\u001b[0m[31m6.7 MB/s\u001b[0m eta \u001b[36m0:00:01\u001b[0m\n",
      "\u001b[?25hRequirement already satisfied: typing-extensions>=4.3 in /home/qwill/anaconda3/lib/python3.10/site-packages (from qiskit-ibm-provider) (4.4.0)\n",
      "Requirement already satisfied: websockets>=10.0 in /home/qwill/anaconda3/lib/python3.10/site-packages (from qiskit-ibm-provider) (11.0.3)\n",
      "Requirement already satisfied: numpy>=1.13 in /home/qwill/anaconda3/lib/python3.10/site-packages (from qiskit-ibm-provider) (1.23.5)\n",
      "Requirement already satisfied: qiskit-terra>=0.24.0 in /home/qwill/anaconda3/lib/python3.10/site-packages (from qiskit-ibm-provider) (0.24.0)\n",
      "Requirement already satisfied: requests-ntlm>=1.1.0 in /home/qwill/anaconda3/lib/python3.10/site-packages (from qiskit-ibm-provider) (1.1.0)\n",
      "Requirement already satisfied: urllib3>=1.21.1 in /home/qwill/anaconda3/lib/python3.10/site-packages (from qiskit-ibm-provider) (1.26.14)\n",
      "Requirement already satisfied: websocket-client>=1.5.1 in /home/qwill/anaconda3/lib/python3.10/site-packages (from qiskit-ibm-provider) (1.5.2)\n",
      "Requirement already satisfied: python-dateutil>=2.8.0 in /home/qwill/anaconda3/lib/python3.10/site-packages (from qiskit-ibm-provider) (2.8.2)\n",
      "Requirement already satisfied: requests>=2.19 in /home/qwill/anaconda3/lib/python3.10/site-packages (from qiskit-ibm-provider) (2.28.1)\n",
      "Requirement already satisfied: six>=1.5 in /home/qwill/anaconda3/lib/python3.10/site-packages (from python-dateutil>=2.8.0->qiskit-ibm-provider) (1.16.0)\n",
      "Requirement already satisfied: symengine<0.10,>=0.9 in /home/qwill/anaconda3/lib/python3.10/site-packages (from qiskit-terra>=0.24.0->qiskit-ibm-provider) (0.9.2)\n",
      "Requirement already satisfied: scipy>=1.5 in /home/qwill/anaconda3/lib/python3.10/site-packages (from qiskit-terra>=0.24.0->qiskit-ibm-provider) (1.10.0)\n",
      "Requirement already satisfied: dill>=0.3 in /home/qwill/anaconda3/lib/python3.10/site-packages (from qiskit-terra>=0.24.0->qiskit-ibm-provider) (0.3.6)\n",
      "Requirement already satisfied: ply>=3.10 in /home/qwill/anaconda3/lib/python3.10/site-packages (from qiskit-terra>=0.24.0->qiskit-ibm-provider) (3.11)\n",
      "Requirement already satisfied: psutil>=5 in /home/qwill/anaconda3/lib/python3.10/site-packages (from qiskit-terra>=0.24.0->qiskit-ibm-provider) (5.9.0)\n",
      "Requirement already satisfied: sympy>=1.3 in /home/qwill/anaconda3/lib/python3.10/site-packages (from qiskit-terra>=0.24.0->qiskit-ibm-provider) (1.11.1)\n",
      "Requirement already satisfied: stevedore>=3.0.0 in /home/qwill/anaconda3/lib/python3.10/site-packages (from qiskit-terra>=0.24.0->qiskit-ibm-provider) (5.1.0)\n",
      "Requirement already satisfied: rustworkx>=0.12.0 in /home/qwill/anaconda3/lib/python3.10/site-packages (from qiskit-terra>=0.24.0->qiskit-ibm-provider) (0.12.1)\n",
      "Requirement already satisfied: charset-normalizer<3,>=2 in /home/qwill/anaconda3/lib/python3.10/site-packages (from requests>=2.19->qiskit-ibm-provider) (2.0.4)\n",
      "Requirement already satisfied: idna<4,>=2.5 in /home/qwill/anaconda3/lib/python3.10/site-packages (from requests>=2.19->qiskit-ibm-provider) (3.4)\n",
      "Requirement already satisfied: certifi>=2017.4.17 in /home/qwill/anaconda3/lib/python3.10/site-packages (from requests>=2.19->qiskit-ibm-provider) (2023.5.7)\n",
      "Requirement already satisfied: ntlm-auth>=1.0.2 in /home/qwill/anaconda3/lib/python3.10/site-packages (from requests-ntlm>=1.1.0->qiskit-ibm-provider) (1.5.0)\n",
      "Requirement already satisfied: cryptography>=1.3 in /home/qwill/anaconda3/lib/python3.10/site-packages (from requests-ntlm>=1.1.0->qiskit-ibm-provider) (39.0.1)\n"
     ]
    },
    {
     "name": "stdout",
     "output_type": "stream",
     "text": [
      "Requirement already satisfied: cffi>=1.12 in /home/qwill/anaconda3/lib/python3.10/site-packages (from cryptography>=1.3->requests-ntlm>=1.1.0->qiskit-ibm-provider) (1.15.1)\n",
      "Requirement already satisfied: pbr!=2.1.0,>=2.0.0 in /home/qwill/anaconda3/lib/python3.10/site-packages (from stevedore>=3.0.0->qiskit-terra>=0.24.0->qiskit-ibm-provider) (5.11.1)\n",
      "Requirement already satisfied: mpmath>=0.19 in /home/qwill/anaconda3/lib/python3.10/site-packages/mpmath-1.2.1-py3.10.egg (from sympy>=1.3->qiskit-terra>=0.24.0->qiskit-ibm-provider) (1.2.1)\n",
      "Requirement already satisfied: pycparser in /home/qwill/anaconda3/lib/python3.10/site-packages (from cffi>=1.12->cryptography>=1.3->requests-ntlm>=1.1.0->qiskit-ibm-provider) (2.21)\n",
      "Installing collected packages: qiskit-ibm-provider\n",
      "Successfully installed qiskit-ibm-provider-0.6.0\n"
     ]
    }
   ],
   "source": [
    "#!pip install qiskit\n",
    "#!pip install openqasm qasm\n",
    "#!pip install matplotlib\n",
    "#!pip install numpy\n"
   ]
  },
  {
   "cell_type": "markdown",
   "id": "3a6c3322",
   "metadata": {},
   "source": [
    "Importacao da librays padrao para uso no qiskit"
   ]
  },
  {
   "cell_type": "code",
   "execution_count": 61,
   "id": "297acc10",
   "metadata": {},
   "outputs": [],
   "source": [
    "from qiskit import *\n",
    "from qiskit import IBMQ   \n",
    "import numpy as np\n",
    "import qiskit.visualization as plot_bloch_multivector\n",
    "import matplotlib as plt\n",
    "from qiskit.tools.visualization import plot_histogram\n",
    "from qiskit.tools.monitor import job_monitor"
   ]
  },
  {
   "cell_type": "markdown",
   "id": "86450a56",
   "metadata": {},
   "source": [
    "Registro de IBM-Token"
   ]
  },
  {
   "cell_type": "code",
   "execution_count": 14,
   "id": "eca26fd8",
   "metadata": {},
   "outputs": [
    {
     "name": "stderr",
     "output_type": "stream",
     "text": [
      "configrc.store_credentials:WARNING:2023-05-28 19:53:15,220: Credentials already present. Set overwrite=True to overwrite.\n"
     ]
    }
   ],
   "source": [
    "#IBMQ.save_account(\"INSIRA SEU IBM-TOKEN AQUI\")"
   ]
  },
  {
   "cell_type": "markdown",
   "id": "79db86cd",
   "metadata": {},
   "source": [
    "Validando a conexao"
   ]
  },
  {
   "cell_type": "code",
   "execution_count": 15,
   "id": "20b5ea4e",
   "metadata": {},
   "outputs": [
    {
     "name": "stderr",
     "output_type": "stream",
     "text": [
      "ibmqfactory.load_account:WARNING:2023-05-28 19:53:16,953: Credentials are already in use. The existing account in the session will be replaced.\n"
     ]
    },
    {
     "data": {
      "text/plain": [
       "<AccountProvider for IBMQ(hub='ibm-q', group='open', project='main')>"
      ]
     },
     "execution_count": 15,
     "metadata": {},
     "output_type": "execute_result"
    }
   ],
   "source": [
    "IBMQ.load_account()"
   ]
  },
  {
   "cell_type": "code",
   "execution_count": 42,
   "id": "e6146bfb",
   "metadata": {},
   "outputs": [],
   "source": [
    "qr = QuantumRegister(2) # - 2 Qubits "
   ]
  },
  {
   "cell_type": "code",
   "execution_count": 43,
   "id": "16c7539a",
   "metadata": {},
   "outputs": [],
   "source": [
    "qc = ClassicalRegister(2) # - 2 Bits"
   ]
  },
  {
   "cell_type": "code",
   "execution_count": 44,
   "id": "867eec24",
   "metadata": {},
   "outputs": [],
   "source": [
    "circuit = QuantumCircuit(qr, qc) # Circuito "
   ]
  },
  {
   "cell_type": "code",
   "execution_count": 45,
   "id": "b70b25b0",
   "metadata": {},
   "outputs": [],
   "source": [
    "matplotlib inline # Set inline para matplotlib ... "
   ]
  },
  {
   "cell_type": "code",
   "execution_count": 46,
   "id": "0e0f7979",
   "metadata": {},
   "outputs": [
    {
     "data": {
      "text/html": [
       "<pre style=\"word-wrap: normal;white-space: pre;background: #fff0;line-height: 1.1;font-family: &quot;Courier New&quot;,Courier,monospace\">      \n",
       "q1_0: \n",
       "      \n",
       "q1_1: \n",
       "      \n",
       "c1: 2/\n",
       "      </pre>"
      ],
      "text/plain": [
       "      \n",
       "q1_0: \n",
       "      \n",
       "q1_1: \n",
       "      \n",
       "c1: 2/\n",
       "      "
      ]
     },
     "execution_count": 46,
     "metadata": {},
     "output_type": "execute_result"
    }
   ],
   "source": [
    "circuit.draw() # desenhar o circuito de forma linear"
   ]
  },
  {
   "cell_type": "code",
   "execution_count": 47,
   "id": "5f0bc669",
   "metadata": {},
   "outputs": [
    {
     "data": {
      "text/plain": [
       "<qiskit.circuit.instructionset.InstructionSet at 0x7ff90917d270>"
      ]
     },
     "execution_count": 47,
     "metadata": {},
     "output_type": "execute_result"
    }
   ],
   "source": [
    "circuit.h(qr[0]) # aplicar porta Hadamar em qr[0]"
   ]
  },
  {
   "cell_type": "code",
   "execution_count": 48,
   "id": "21af96b5",
   "metadata": {},
   "outputs": [
    {
     "data": {
      "image/png": "[encoded data removed]",
      "text/plain": [
       "<Figure size 221.914x284.278 with 1 Axes>"
      ]
     },
     "execution_count": 48,
     "metadata": {},
     "output_type": "execute_result"
    }
   ],
   "source": [
    "circuit.draw(output='mpl') # desenhar o circuito de forma grafica"
   ]
  },
  {
   "cell_type": "code",
   "execution_count": 49,
   "id": "ae75c294",
   "metadata": {},
   "outputs": [
    {
     "data": {
      "text/plain": [
       "<qiskit.circuit.instructionset.InstructionSet at 0x7ff908fea680>"
      ]
     },
     "execution_count": 49,
     "metadata": {},
     "output_type": "execute_result"
    }
   ],
   "source": [
    "circuit.cx(qr[0], qr[1]) # aplicar porta control - X o controle é qr[0] aplicado a qr[1] "
   ]
  },
  {
   "cell_type": "code",
   "execution_count": 50,
   "id": "ff4e73a9",
   "metadata": {},
   "outputs": [
    {
     "data": {
      "image/png": "[encoded data removed]",
      "text/plain": [
       "<Figure size 305.525x284.278 with 1 Axes>"
      ]
     },
     "execution_count": 50,
     "metadata": {},
     "output_type": "execute_result"
    }
   ],
   "source": [
    "circuit.draw(output='mpl')"
   ]
  },
  {
   "cell_type": "code",
   "execution_count": 51,
   "id": "f0e2c382",
   "metadata": {},
   "outputs": [
    {
     "data": {
      "text/plain": [
       "<qiskit.circuit.instructionset.InstructionSet at 0x7ff90905fdc0>"
      ]
     },
     "execution_count": 51,
     "metadata": {},
     "output_type": "execute_result"
    }
   ],
   "source": [
    "circuit.measure(qr, qc) # executar a medida do circuit e registrar a saida em uma porta classica"
   ]
  },
  {
   "cell_type": "code",
   "execution_count": 52,
   "id": "f2299938",
   "metadata": {},
   "outputs": [
    {
     "data": {
      "image/png": "[encoded data removed]",
      "text/plain": [
       "<Figure size 472.747x284.278 with 1 Axes>"
      ]
     },
     "execution_count": 52,
     "metadata": {},
     "output_type": "execute_result"
    }
   ],
   "source": [
    "circuit.draw(output='mpl')"
   ]
  },
  {
   "cell_type": "markdown",
   "id": "12cd6a87",
   "metadata": {},
   "source": [
    "Executando o circuito em um simulador"
   ]
  },
  {
   "cell_type": "code",
   "execution_count": 53,
   "id": "4c118a4e",
   "metadata": {},
   "outputs": [],
   "source": [
    "simulator = Aer.get_backend('qasm_simulator') # define a execucao no simulador do qiskit AER"
   ]
  },
  {
   "cell_type": "code",
   "execution_count": 55,
   "id": "6b74ea0c",
   "metadata": {},
   "outputs": [],
   "source": [
    "result = execute(circuit, backend = simulator).result()  # Pega o resultado da execcao e registra em result"
   ]
  },
  {
   "cell_type": "code",
   "execution_count": 57,
   "id": "1dfa175e",
   "metadata": {},
   "outputs": [
    {
     "data": {
      "image/png": "[encoded data removed]",
      "text/plain": [
       "<Figure size 700x500 with 1 Axes>"
      ]
     },
     "execution_count": 57,
     "metadata": {},
     "output_type": "execute_result"
    }
   ],
   "source": [
    "plot_histogram(result.get_counts(circuit))   # Apresenta o Historama "
   ]
  },
  {
   "cell_type": "markdown",
   "id": "134caaec",
   "metadata": {},
   "source": [
    "Executando o Circuito no IBM-Quantum Machine"
   ]
  },
  {
   "cell_type": "code",
   "execution_count": 58,
   "id": "c59d7f0e",
   "metadata": {},
   "outputs": [],
   "source": [
    "provider = IBMQ.get_provider('ibm-q') # preprando a execucao em um Quantum Computer da IBM"
   ]
  },
  {
   "cell_type": "code",
   "execution_count": 60,
   "id": "bd3e3419",
   "metadata": {},
   "outputs": [],
   "source": [
    "qcomp = provider.get_backend('ibmq_lima') # definindo o computador "
   ]
  },
  {
   "cell_type": "code",
   "execution_count": 62,
   "id": "64ccc238",
   "metadata": {},
   "outputs": [],
   "source": [
    "job = execute(circuit, backend=qcomp) # execute o Circuito"
   ]
  },
  {
   "cell_type": "code",
   "execution_count": 64,
   "id": "ce796ede",
   "metadata": {},
   "outputs": [
    {
     "name": "stdout",
     "output_type": "stream",
     "text": [
      "\r",
      "Job Status: job has successfully run\n"
     ]
    }
   ],
   "source": [
    "job_monitor(job)  # Monitore a execucao "
   ]
  },
  {
   "cell_type": "code",
   "execution_count": 65,
   "id": "090c8523",
   "metadata": {},
   "outputs": [],
   "source": [
    "result =job.result()  # registre o resultado"
   ]
  },
  {
   "cell_type": "code",
   "execution_count": 66,
   "id": "07d77a76",
   "metadata": {
    "scrolled": true
   },
   "outputs": [
    {
     "data": {
      "image/png": "[encoded data removed]",
      "text/plain": [
       "<Figure size 700x500 with 1 Axes>"
      ]
     },
     "execution_count": 66,
     "metadata": {},
     "output_type": "execute_result"
    }
   ],
   "source": [
    "plot_histogram(result.get_counts(circuit))   # Apresenta o Historama"
   ]
  },
  {
   "cell_type": "code",
   "execution_count": 67,
   "id": "7eff43eb",
   "metadata": {},
   "outputs": [
    {
     "data": {
      "image/png": "[encoded data removed]",
      "text/plain": [
       "<Figure size 472.747x284.278 with 1 Axes>"
      ]
     },
     "execution_count": 67,
     "metadata": {},
     "output_type": "execute_result"
    }
   ],
   "source": [
    "circuit.draw(output='mpl')"
   ]
  },
  {
   "cell_type": "code",
   "execution_count": null,
   "id": "33f624ba",
   "metadata": {},
   "outputs": [],
   "source": []
  }
 ],
 "metadata": {
  "kernelspec": {
   "display_name": "Python 3 (ipykernel)",
   "language": "python",
   "name": "python3"
  },
  "language_info": {
   "codemirror_mode": {
    "name": "ipython",
    "version": 3
   },
   "file_extension": ".py",
   "mimetype": "text/x-python",
   "name": "python",
   "nbconvert_exporter": "python",
   "pygments_lexer": "ipython3",
   "version": "3.10.9"
  }
 },
 "nbformat": 4,
 "nbformat_minor": 5
}
